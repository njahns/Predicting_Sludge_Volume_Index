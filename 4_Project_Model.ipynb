{
 "cells": [
  {
   "cell_type": "markdown",
   "id": "38f0feb3-6890-4059-85ea-f97e1dcda45c",
   "metadata": {
    "tags": []
   },
   "source": [
    "# 4. Model Development"
   ]
  },
  {
   "cell_type": "markdown",
   "id": "4999be9e-6fc6-464e-8158-6c6cf381bdbe",
   "metadata": {},
   "source": [
    "## Pre-processing"
   ]
  },
  {
   "cell_type": "code",
   "execution_count": 2,
   "id": "dca96e88-f284-450b-88da-36df28b66fa3",
   "metadata": {
    "tags": []
   },
   "outputs": [],
   "source": [
    "# Libraries imported for this notebook.\n",
    "\n",
    "import numpy as np\n",
    "import pandas as pd\n",
    "import matplotlib.pyplot as plt\n",
    "from sklearn.model_selection import TimeSeriesSplit, cross_val_score\n",
    "from sklearn.linear_model import LinearRegression\n",
    "from sklearn.ensemble import RandomForestRegressor\n",
    "from statsmodels.tsa.arima.model import ARIMA\n",
    "from sklearn.metrics import mean_squared_error\n",
    "from sklearn.metrics import r2_score"
   ]
  },
  {
   "cell_type": "code",
   "execution_count": 3,
   "id": "0e11b42e-e498-4bc7-b6da-f0242cc49f69",
   "metadata": {
    "tags": []
   },
   "outputs": [],
   "source": [
    "# Read EDA_Data.xlsx into a dataframe, formatted dates, and indexed dates.\n",
    "\n",
    "df = pd.read_excel('/Users/NJahns/Desktop/Bootcamp/Capstone_Two/Edited_Data/Pre_Process_Train.xlsx', parse_dates=True, index_col=[0])"
   ]
  },
  {
   "cell_type": "code",
   "execution_count": 3,
   "id": "e397e360-1184-48ba-9261-123dd92c8ef4",
   "metadata": {},
   "outputs": [
    {
     "data": {
      "text/plain": [
       "(2272, 555)"
      ]
     },
     "execution_count": 3,
     "metadata": {},
     "output_type": "execute_result"
    }
   ],
   "source": [
    "# Looked at shape\n",
    "\n",
    "df.shape"
   ]
  },
  {
   "cell_type": "code",
   "execution_count": 4,
   "id": "a0187954-e784-40de-9a22-3e3445654726",
   "metadata": {},
   "outputs": [],
   "source": [
    "# Defined Xs and ys.\n",
    "\n",
    "X_orig = df[[col for col in df.columns if '_' not in col and col != 'Sludge Volume Index']].copy() # Original features\n",
    "X_diff_1 = df[df.columns[df.columns.str.contains('1st')]] # 1st order differenced versions of features\n",
    "X_diff_1_no_SVI = df[df.columns[df.columns.str.contains('1st')]].drop(columns=['1st_Sludge Volume Index']) # 1st order differenced versions of features excluding SVI\n",
    "X_lag_1 = df[df.columns[df.columns.str.contains('_1')]] # 1 day lagged versions of features\n",
    "X_lag_1_no_SVI = df[df.columns[df.columns.str.contains('_1')]].drop(columns=['Sludge Volume Index_lag_1']) # 1 day lagged versions of features excluding SVI\n",
    "X_lag_2 = df[df.columns[df.columns.str.contains('_2')]] # 2 day lagged versions of features\n",
    "X_lag_3 = df[df.columns[df.columns.str.contains('_3')]] # 3 day lagged versions of features\n",
    "X_lag_4 = df[df.columns[df.columns.str.contains('_4')]] # 4 day lagged versions of features\n",
    "X_lag_4_no_SVI = df[df.columns[df.columns.str.contains('_4')]].drop(columns=['Sludge Volume Index_lag_4']) # 4 day lagged versions of features excluding SVI\n",
    "X_lag_7 = df[df.columns[df.columns.str.contains('_7')]] # 7 day lagged versions of features\n",
    "X_lag_7_no_SVI = df[df.columns[df.columns.str.contains('_7')]].drop(columns=['Sludge Volume Index_lag_7']) # 7 day lagged versions of features excluding SVI\n",
    "\n",
    "y = df['Sludge Volume Index'] # Target variable for all models\n",
    "y_shift = df['Sludge Volume Index'].shift(1).dropna() # Target variable for all models shifted by one day"
   ]
  },
  {
   "cell_type": "markdown",
   "id": "cec1e1a9-e9ec-4ff6-9c79-ad01897a1d13",
   "metadata": {
    "jp-MarkdownHeadingCollapsed": true
   },
   "source": [
    "I defined multiple versions of X and y for use in my models. I did this for the X data to try different combinations of independent variables in the models. This also reduced the size of the dataset which prevented the curse of dimensionality and overfitting. These data consisted of original data (including the additional WTP metrics I calculated) and specific orders of differenced and lagged data containing and not containing SVI. I didn’t create every possible combination of these data groups, but rather a range so that I could hone in on specific combinations when running the models. For instance, I made a data set of data with a one day lag, a set with four day lag, and with seven day lag. That way, a model performing, for instance, well with one and four day lag data but poorly with seven day lag data, would direct me to try the model with two or three day lag data. As for y data, I defined a dataset of original SVI and SVI shifted forward one day. The latter was created to avoid any potential data leakage."
   ]
  },
  {
   "cell_type": "code",
   "execution_count": 9,
   "id": "142d6dfd-38ae-485d-b00b-8ab16f8eea10",
   "metadata": {},
   "outputs": [],
   "source": [
    "# Defined number of splits for time series cross-validation.\n",
    "\n",
    "n_splits = 5\n",
    "tscv = TimeSeriesSplit(n_splits=n_splits)"
   ]
  },
  {
   "cell_type": "markdown",
   "id": "bd6a1189-b062-4c88-8e94-174f48164ca8",
   "metadata": {},
   "source": [
    "I used TimeSeriesSplit as a cross-validator because it is specifically designed for time series data. The dataset is split into consecutive folds, where each fold is a superset of the previous one, ensuring that the model is trained on data that retains the temporal nature of time series data. In addition, these methods can also check for autocorrelation."
   ]
  },
  {
   "cell_type": "markdown",
   "id": "1358538d-6b18-4597-b6b6-f0abbeb1f61f",
   "metadata": {},
   "source": [
    "Models capable of making predictions from time series data were essential for this project. I chose to explore linear regression, random forest, and ARIMAX models."
   ]
  },
  {
   "cell_type": "markdown",
   "id": "2e57489e-0dc5-4f28-92e6-f5b101d66dc3",
   "metadata": {},
   "source": [
    "## Linear Regression"
   ]
  },
  {
   "cell_type": "code",
   "execution_count": 93,
   "id": "ae08b542-7857-4163-8d98-d9e977e4b5b7",
   "metadata": {},
   "outputs": [],
   "source": [
    "# Created funtion to perform cross-validation on folds and calculate RMSE and Adj R2\n",
    "\n",
    "# Defined function\n",
    "def lrcv(X, y, tscv): # linear regression cross validation\n",
    "    # Initialize empty lists to store scores and predictions\n",
    "    lr_rmse_scores = []\n",
    "    lr_predictions = []\n",
    "    lr_adj_r2_scores = []\n",
    "    # Iterate over each fold for cross-validation using the time series cross-validation splitter (tscv)    \n",
    "    for train_index, test_index in tscv.split(X):\n",
    "        # Split data into training and test sets        \n",
    "        X_train, X_test = X.iloc[train_index], X.iloc[test_index]\n",
    "        y_train, y_test = y.iloc[train_index], y.iloc[test_index]\n",
    "        # Instantiate a linear regression model\n",
    "        lr_model = LinearRegression()\n",
    "        # Fit the linear regression model to the training data\n",
    "        lr_model.fit(X_train, y_train)\n",
    "        # Make predictions on the test set\n",
    "        lr_pred = lr_model.predict(X_test)\n",
    "        # Store predictions\n",
    "        lr_predictions.extend(lr_pred)\n",
    "        # Calculate Root Mean Squared Error (RMSE) and append to list\n",
    "        lr_rmse_scores.append(np.sqrt(mean_squared_error(y_test, lr_pred)))\n",
    "        # Calculate R^2 score\n",
    "        r2 = r2_score(y_test, lr_pred)\n",
    "        n = len(y_test)  # Number of observations\n",
    "        k = X_train.shape[1]  # Number of predictors\n",
    "        adj_r2 = 1 - ((1 - r2) * ((n - 1) / (n - k - 1)))\n",
    "        # Append adjusted R^2 score to list\n",
    "        lr_adj_r2_scores.append(adj_r2)\n",
    "    # Calculate average RMSE and average adjusted R^2 score across all folds\n",
    "    lr_avg_rmse = np.mean(lr_rmse_scores)\n",
    "    lr_avg_adj_r2 = np.mean(lr_adj_r2_scores)\n",
    "    # Return average RMSE and average adjusted R^2 score, and predictions\n",
    "    return lr_avg_rmse, lr_avg_adj_r2, lr_predictions"
   ]
  },
  {
   "cell_type": "markdown",
   "id": "3a1389c6-5b33-4a6b-bf44-b907fe682040",
   "metadata": {},
   "source": [
    "RMSE was calculated to measures the error between the model's predictions and the actual values. R squared was calculated to measures the proportion of the variance in SVI that is explained by the features. This value was then adjusted to account for the large number of predictors in the model. This was done because the R-squared value of a model can increase as predictors are added to a model even if they are not contributing to the explanatory power of the model. Adjusting the R-squared corrects this."
   ]
  },
  {
   "cell_type": "code",
   "execution_count": 76,
   "id": "78fcdbed-3392-4401-87bf-cf14034ff1c9",
   "metadata": {},
   "outputs": [],
   "source": [
    "# Ran function with original features\n",
    "lr_X_orig_avg_rmse, lr_X_orig_avg_adj_r2, lr_X_orig_predictions = lrcv(X_orig, y, tscv)"
   ]
  },
  {
   "cell_type": "code",
   "execution_count": 77,
   "id": "b7acefc7-e02c-4766-bd75-9080d5e4e33a",
   "metadata": {},
   "outputs": [],
   "source": [
    "# Ran function with shifted y and original features\n",
    "lr_y_shift_X_orig_avg_rmse, lr_y_shift_X_orig_avg_adj_r2, lr_y_shift_X_orig_predictions = lrcv(X_orig.iloc[1:,:], y_shift, tscv)"
   ]
  },
  {
   "cell_type": "code",
   "execution_count": 94,
   "id": "2efc8b22-e136-467c-bf2c-880ba607e9b1",
   "metadata": {},
   "outputs": [],
   "source": [
    "# Ran function with 1st order differenced versions of features\n",
    "lr_X_diff_1_avg_rmse, lr_X_diff_1_avg_adj_r2, lr_X_diff_1_predictions = lrcv(X_diff_1, y, tscv)"
   ]
  },
  {
   "cell_type": "code",
   "execution_count": 95,
   "id": "7e4f6057-8555-45b8-9912-399aeb3790ab",
   "metadata": {},
   "outputs": [],
   "source": [
    "# Ran function with shifted y and 1st order differenced versions of features\n",
    "lr_y_shift_X_diff_1_avg_rmse, lr_y_shift_X_diff_1_avg_adj_r2, lr_y_shift_X_diff_1_predictions = lrcv(X_diff_1.iloc[1:,:], y_shift, tscv)"
   ]
  },
  {
   "cell_type": "code",
   "execution_count": 80,
   "id": "c1869b67-93e1-4b17-80d2-4dde73c39567",
   "metadata": {},
   "outputs": [],
   "source": [
    "# Ran function with 1 day lagged versions of features\n",
    "lr_X_lag_1_avg_rmse, lr_X_lag_1_avg_adj_r2, lr_X_lag_1_predictions = lrcv(X_lag_1, y, tscv)"
   ]
  },
  {
   "cell_type": "code",
   "execution_count": 81,
   "id": "28ce3f04-05a3-423f-a735-8fa5d9a6b3c4",
   "metadata": {},
   "outputs": [],
   "source": [
    "# Ran function with shifted y and 1 day lagged versions of features\n",
    "lr_y_shift_X_lag_1_avg_rmse, lr_y_shift_X_lag_1_avg_adj_r2, lr_y_shift_X_lag_1_predictions = lrcv(X_lag_1.iloc[1:,:], y_shift, tscv)"
   ]
  },
  {
   "cell_type": "code",
   "execution_count": 82,
   "id": "2ea34d63-c977-4832-bafa-b5189fb7acd8",
   "metadata": {},
   "outputs": [],
   "source": [
    "# Ran function with 4 day lagged versions of features\n",
    "lr_X_lag_4_avg_rmse, lr_X_lag_4_avg_adj_r2, lr_X_lag_4_predictions = lrcv(X_lag_4, y, tscv)"
   ]
  },
  {
   "cell_type": "code",
   "execution_count": 83,
   "id": "e75e9123-406e-4f27-bb8e-48a677988375",
   "metadata": {},
   "outputs": [],
   "source": [
    "# Ran function with shifted y and 4 day lagged versions of features\n",
    "lr_y_shift_X_lag_4_avg_rmse, lr_y_shift_X_lag_4_avg_adj_r2, lr_y_shift_X_lag_4_predictions = lrcv(X_lag_4.iloc[1:,:], y_shift, tscv)"
   ]
  },
  {
   "cell_type": "code",
   "execution_count": 84,
   "id": "db02d781-6960-4359-bd9c-672e62bbd794",
   "metadata": {},
   "outputs": [],
   "source": [
    "# Ran function with 7 day lagged versions of features\n",
    "lr_X_lag_7_avg_rmse, lr_X_lag_7_avg_adj_r2, lr_X_lag_7_predictions = lrcv(X_lag_7, y, tscv)"
   ]
  },
  {
   "cell_type": "code",
   "execution_count": 85,
   "id": "4e098281-1a18-45df-ade6-590642988330",
   "metadata": {},
   "outputs": [],
   "source": [
    "# Ran function with shifted y and 7 day lagged versions of features\n",
    "lr_y_shift_X_lag_7_avg_rmse, lr_y_shift_X_lag_7_avg_adj_r2, lr_y_shift_X_lag_7_predictions = lrcv(X_lag_7.iloc[1:,:], y_shift, tscv)"
   ]
  },
  {
   "cell_type": "code",
   "execution_count": 88,
   "id": "d7779e9d-412b-4564-b9a1-1988aa8d52de",
   "metadata": {},
   "outputs": [],
   "source": [
    "# Ran function with shifted y and 2 day lagged versions of features\n",
    "lr_y_shift_X_lag_2_avg_rmse, lr_y_shift_X_lag_2_avg_adj_r2, lr_y_shift_X_lag_2_predictions = lrcv(X_lag_2.iloc[1:,:], y_shift, tscv)"
   ]
  },
  {
   "cell_type": "code",
   "execution_count": 89,
   "id": "9295ff83-00d0-44e5-8f09-1aabce7519fc",
   "metadata": {},
   "outputs": [],
   "source": [
    "# Ran function with shifted y and 3 day lagged versions of features\n",
    "lr_y_shift_X_lag_3_avg_rmse, lr_y_shift_X_lag_3_avg_adj_r2, lr_y_shift_X_lag_3_predictions = lrcv(X_lag_3.iloc[1:,:], y_shift, tscv)"
   ]
  },
  {
   "cell_type": "markdown",
   "id": "3edd0165-1dcb-404c-b18f-5da9b7a0464e",
   "metadata": {},
   "source": [
    "## Random Forest"
   ]
  },
  {
   "cell_type": "code",
   "execution_count": 99,
   "id": "777423bd-914f-4500-8b92-697a3a72784b",
   "metadata": {},
   "outputs": [],
   "source": [
    "# Created funtion to perform cross-validation on folds and calculate RMSE and Adj R2\n",
    "\n",
    "# Defined function\n",
    "def rfcv(X, y, tscv): # Random forest cross validation\n",
    "    # Initialize empty lists to store scores and predictions\n",
    "    rf_rmse_scores = []\n",
    "    rf_predictions = []\n",
    "    rf_adj_r2_scores = []\n",
    "    # Iterate over each fold for cross-validation using the time series cross-validation splitter (tscv)    \n",
    "    for train_index, test_index in tscv.split(X):\n",
    "        # Split data into training and test sets        \n",
    "        X_train, X_test = X.iloc[train_index], X.iloc[test_index]\n",
    "        y_train, y_test = y.iloc[train_index], y.iloc[test_index]\n",
    "        # Instantiate a random forest model\n",
    "        rf_model = RandomForestRegressor()\n",
    "        # Fit the random forest model to the training data\n",
    "        rf_model.fit(X_train, y_train)\n",
    "        # Make predictions on the test set\n",
    "        rf_pred = rf_model.predict(X_test)\n",
    "        # Store predictions\n",
    "        rf_predictions.extend(rf_pred)\n",
    "        # Calculate Root Mean Squared Error (RMSE) and append to list\n",
    "        rf_rmse_scores.append(np.sqrt(mean_squared_error(y_test, rf_pred)))\n",
    "        # Calculate R^2 score\n",
    "        r2 = r2_score(y_test, rf_pred)\n",
    "        n = len(y_test)  # Number of observations\n",
    "        k = X_train.shape[1]  # Number of predictors\n",
    "        adj_r2 = 1 - (1 - r2) * ((n - 1) / (n - k - 1))\n",
    "        # Append adjusted R^2 score to list\n",
    "        rf_adj_r2_scores.append(adj_r2)\n",
    "    # Calculate average RMSE and average adjusted R^2 score across all folds\n",
    "    rf_avg_rmse = np.mean(rf_rmse_scores)\n",
    "    rf_avg_adj_r2 = np.mean(rf_adj_r2_scores)\n",
    "    # Return average RMSE and average adjusted R^2 score, and predictions\n",
    "    return rf_avg_rmse, rf_avg_adj_r2, rf_predictions"
   ]
  },
  {
   "cell_type": "code",
   "execution_count": 100,
   "id": "478394b9-dea7-4077-bf09-79c04539dd49",
   "metadata": {},
   "outputs": [],
   "source": [
    "# Ran function with original features\n",
    "rf_X_orig_avg_rmse, rf_X_orig_avg_adj_r2, rf_X_orig_predictions = rfcv(X_orig, y, tscv)"
   ]
  },
  {
   "cell_type": "code",
   "execution_count": 101,
   "id": "c6f5213f-829d-4d43-b379-fbb0e355a44b",
   "metadata": {},
   "outputs": [],
   "source": [
    "# Ran function with shifted y and original features\n",
    "rf_y_shift_X_orig_avg_rmse, rf_y_shift_X_orig_avg_adj_r2, rf_y_shift_X_orig_predictions = rfcv(X_orig.iloc[1:,:], y_shift, tscv)"
   ]
  },
  {
   "cell_type": "code",
   "execution_count": 102,
   "id": "252c6f38-3e7c-4687-9bf2-8bfb1aee5512",
   "metadata": {},
   "outputs": [],
   "source": [
    "# Ran function with 1st order differenced versions of features\n",
    "rf_X_diff_1_avg_rmse, rf_X_diff_1_avg_adj_r2, rf_X_diff_1_predictions = rfcv(X_diff_1, y, tscv)"
   ]
  },
  {
   "cell_type": "code",
   "execution_count": 103,
   "id": "5a530bd1-5cc7-4811-9d5b-56ba57126dbd",
   "metadata": {},
   "outputs": [],
   "source": [
    "# Ran function with shifted y and 1st order differenced versions of features\n",
    "rf_y_shift_X_diff_1_avg_rmse, rf_y_shift_X_diff_1_avg_adj_r2, rf_y_shift_X_diff_1_predictions = rfcv(X_diff_1.iloc[1:,:], y_shift, tscv)"
   ]
  },
  {
   "cell_type": "code",
   "execution_count": 104,
   "id": "46d12c51-bc41-4f85-b58d-a4e5a9c42966",
   "metadata": {},
   "outputs": [],
   "source": [
    "# Ran function with 1 day lagged versions of features\n",
    "rf_X_lag_1_avg_rmse, rf_X_lag_1_avg_adj_r2, rf_X_lag_1_predictions = rfcv(X_lag_1, y, tscv)"
   ]
  },
  {
   "cell_type": "code",
   "execution_count": 106,
   "id": "5a826be8-2d17-4062-a4ea-8cfc7b630573",
   "metadata": {},
   "outputs": [],
   "source": [
    "# Ran function with shifted y and 1 day lagged versions of features\n",
    "rf_y_shift_X_lag_1_avg_rmse, rf_y_shift_X_lag_1_avg_adj_r2, rf_y_shift_X_lag_1_predictions = rfcv(X_lag_1.iloc[1:,:], y_shift, tscv)"
   ]
  },
  {
   "cell_type": "code",
   "execution_count": 116,
   "id": "62940ddf-303e-4c9b-8a59-439fe59a9c54",
   "metadata": {},
   "outputs": [],
   "source": [
    "# Ran function with 4 day lagged versions of features\n",
    "rf_X_lag_4_avg_rmse, rf_X_lag_4_avg_adj_r2, rf_X_lag_4_predictions = rfcv(X_lag_4, y, tscv)"
   ]
  },
  {
   "cell_type": "code",
   "execution_count": 114,
   "id": "a69b8d3b-fbc2-4f44-a8fe-58aee6d0b6ea",
   "metadata": {},
   "outputs": [],
   "source": [
    "# Ran function with shifted y and 4 day lagged versions of features\n",
    "rf_y_shift_X_lag_4_avg_rmse, rf_y_shift_X_lag_4_avg_adj_r2, rf_y_shift_X_lag_4_predictions = rfcv(X_lag_4.iloc[1:,:], y_shift, tscv)"
   ]
  },
  {
   "cell_type": "code",
   "execution_count": 109,
   "id": "1efbe97b-0c76-4e21-a5f4-2c63f04f382f",
   "metadata": {},
   "outputs": [],
   "source": [
    "# Ran function with 7 day lagged versions of features\n",
    "rf_X_lag_7_avg_rmse, rf_X_lag_7_avg_adj_r2, rf_X_lag_7_predictions = rfcv(X_lag_7, y, tscv)"
   ]
  },
  {
   "cell_type": "code",
   "execution_count": 110,
   "id": "e0c376ce-5aea-4cdb-9fd0-c9ad7ca6c048",
   "metadata": {},
   "outputs": [],
   "source": [
    "# Ran function with shifted y and 7 day lagged versions of features\n",
    "rf_y_shift_X_lag_7_avg_rmse, rf_y_shift_X_lag_7_avg_adj_r2, rf_y_shift_X_lag_7_predictions = rfcv(X_lag_7.iloc[1:,:], y_shift, tscv)"
   ]
  },
  {
   "cell_type": "markdown",
   "id": "936bcf18-f597-4e46-9b17-ff9457e8a30a",
   "metadata": {},
   "source": [
    "## ARIMAX"
   ]
  },
  {
   "cell_type": "code",
   "execution_count": 126,
   "id": "e0b18615-e3c8-4107-be88-1305288aa9a4",
   "metadata": {
    "scrolled": true
   },
   "outputs": [],
   "source": [
    "# Created funtion to perform cross-validation on folds and calculate RMSE and Adj R2\n",
    "from pmdarima.arima import auto_arima\n",
    "\n",
    "# Modified function with auto ARIMA\n",
    "def arimaxcv(y, exog, tscv): # ARIMAX cross validation\n",
    "    # Initialize empty lists to store scores and predictions\n",
    "    arimax_rmse_scores = []\n",
    "    arimax_predictions = []\n",
    "    arimax_adj_r2_scores = []    \n",
    "    # Iterate over each fold for cross-validation using the time series cross-validation splitter (tscv)    \n",
    "    for train_index, test_index in tscv.split(y):\n",
    "        # Split data into training and test sets\n",
    "        y_train, y_test = y.iloc[train_index], y.iloc[test_index]\n",
    "        exog_train, exog_test = exog.iloc[train_index], exog.iloc[test_index]\n",
    "        # Use auto ARIMA to find the best ARIMA parameters\n",
    "        arimax_model = auto_arima(y_train, exogenous=exog_train)\n",
    "        # Fit the ARIMAX model to the training data\n",
    "        arimax_model_fit = arimax_model.fit(y_train, exogenous=exog_train)\n",
    "        # Make predictions on the test set\n",
    "        arimax_pred = arimax_model_fit.predict(n_periods=len(y_test), exogenous=exog_test)\n",
    "        # Store predictions\n",
    "        arimax_predictions.append(arimax_pred)\n",
    "        # Calculate Root Mean Squared Error (RMSE) and append to list\n",
    "        arimax_rmse_scores.append(np.sqrt(mean_squared_error(y_test, arimax_pred)))\n",
    "        # Calculate R^2 score\n",
    "        r2 = r2_score(y_test, arimax_pred)\n",
    "        n = len(y_test)  # Number of observations\n",
    "        k = 1 + exog_train.shape[1]  # Number of predictors (1 for the lagged values of the target variable and additional ones for exogenous variables)\n",
    "        adj_r2 = 1 - (1 - r2) * ((n - 1) / (n - k - 1))        \n",
    "        # Append adjusted R^2 score to list\n",
    "        arimax_adj_r2_scores.append(adj_r2)    \n",
    "    # Calculate average RMSE and average adjusted R^2 score across all folds\n",
    "    arimax_avg_rmse = np.mean(arimax_rmse_scores)\n",
    "    arimax_avg_adj_r2 = np.mean(arimax_adj_r2_scores)    \n",
    "    # Return average RMSE and average adjusted R^2 score, and predictions\n",
    "    return arimax_avg_rmse, arimax_avg_adj_r2, arimax_predictions"
   ]
  },
  {
   "cell_type": "markdown",
   "id": "e279633f-5cb6-45fe-8114-e4c03e6d75b1",
   "metadata": {},
   "source": [
    "The ARIMAX model creates differenced and lagged versions of the target variable so the dataset fed to it should not include the SVI differenced and lagged data."
   ]
  },
  {
   "cell_type": "code",
   "execution_count": 128,
   "id": "2ae477b4-2859-4765-ba62-f8d74c980c65",
   "metadata": {},
   "outputs": [],
   "source": [
    "# Ran function with original features\n",
    "arimax_X_orig_avg_rmse, arimax_X_orig_avg_adj_r2, arimax_X_orig_predictions = arimaxcv(y, X_orig, tscv)"
   ]
  },
  {
   "cell_type": "code",
   "execution_count": 129,
   "id": "83c9b4fe-3517-4691-a615-9fc6d743bcb3",
   "metadata": {},
   "outputs": [],
   "source": [
    "# Ran function with shifted y and original features\n",
    "arimax_y_shift_X_orig_avg_rmse, arimax_y_shift_X_orig_avg_adj_r2, arimax_y_shift_X_orig_predictions = arimaxcv(y_shift, X_orig.iloc[1:,:], tscv)"
   ]
  },
  {
   "cell_type": "code",
   "execution_count": 130,
   "id": "4672dfb0-c962-4fec-84b7-751202ce3215",
   "metadata": {},
   "outputs": [],
   "source": [
    "# Ran function with 1st order differenced versions of features\n",
    "arimax_X_diff_1_no_SVI_avg_rmse, arimax_X_diff_1_no_SVI_avg_adj_r2, arimax_X_diff_1_no_SVI_predictions = arimaxcv(y, X_diff_1_no_SVI, tscv)"
   ]
  },
  {
   "cell_type": "code",
   "execution_count": 131,
   "id": "bf286a6b-7d40-4c0b-9c46-1a9cd9f8e4d2",
   "metadata": {},
   "outputs": [],
   "source": [
    "# Ran function with shifted y and 1st order differenced versions of features\n",
    "arimax_y_shift_X_diff_1_no_SVI_avg_rmse, arimax_y_shift_X_diff_1_no_SVI_avg_adj_r2, arimax_y_shift_X_diff_1_no_SVI_predictions = arimaxcv(y_shift, X_diff_1_no_SVI.iloc[1:,:], tscv)"
   ]
  },
  {
   "cell_type": "code",
   "execution_count": 132,
   "id": "a41ad30a-759b-4e6b-a9c6-d07d5bf5f707",
   "metadata": {},
   "outputs": [],
   "source": [
    "# Ran function with 1 day lagged versions of features\n",
    "arimax_X_lag_1_no_SVI_avg_rmse, arimax_X_lag_1_no_SVI_avg_adj_r2, arimax_X_lag_1_no_SVI_predictions = arimaxcv(y, X_lag_1_no_SVI, tscv)"
   ]
  },
  {
   "cell_type": "code",
   "execution_count": 133,
   "id": "a105ae25-04ff-4546-9bdc-521ee5710266",
   "metadata": {},
   "outputs": [],
   "source": [
    "# Ran function with shifted y and 1 day lagged versions of features\n",
    "arimax_y_shift_X_lag_1_no_SVI_avg_rmse, arimax_y_shift_X_lag_1_no_SVI_avg_adj_r2, arimax_y_shift_X_lag_1_no_SVI_predictions = arimaxcv(y_shift, X_lag_1_no_SVI.iloc[1:,:], tscv)"
   ]
  },
  {
   "cell_type": "code",
   "execution_count": 134,
   "id": "465389a2-0cc0-4b20-a520-462b7e3edcb5",
   "metadata": {},
   "outputs": [],
   "source": [
    "# Ran function with 4 day lagged versions of features\n",
    "arimax_X_lag_4_no_SVI_avg_rmse, arimax_X_lag_4_no_SVI_avg_adj_r2, arimax_X_lag_4_no_SVI_predictions = arimaxcv(y, X_lag_4_no_SVI, tscv)"
   ]
  },
  {
   "cell_type": "code",
   "execution_count": 135,
   "id": "930d38bd-16de-4b98-b4bc-3930fdc30b32",
   "metadata": {},
   "outputs": [],
   "source": [
    "# Ran function with shifted y and 4 day lagged versions of features\n",
    "arimax_y_shift_X_lag_4_no_SVI_avg_rmse, arimax_y_shift_X_lag_4_no_SVI_avg_adj_r2, arimax_y_shift_X_lag_4_no_SVI_predictions = arimaxcv(y_shift, X_lag_4_no_SVI.iloc[1:,:], tscv)"
   ]
  },
  {
   "cell_type": "code",
   "execution_count": 136,
   "id": "b1bff25c-8a41-405a-b9e9-30dd86c4fe5e",
   "metadata": {},
   "outputs": [],
   "source": [
    "# Ran function with 7 day lagged versions of features\n",
    "arimax_X_lag_7_no_SVI_avg_rmse, arimax_X_lag_7_no_SVI_avg_adj_r2, arimax_X_lag_7_no_SVI_predictions = arimaxcv(y, X_lag_7_no_SVI, tscv)"
   ]
  },
  {
   "cell_type": "code",
   "execution_count": 137,
   "id": "caf28f8b-b833-407a-8973-e6cc843d5cc5",
   "metadata": {},
   "outputs": [],
   "source": [
    "# Ran function with shifted y and 7 day lagged versions of features\n",
    "arimax_y_shift_X_lag_7_no_SVI_avg_rmse, arimax_y_shift_X_lag_7_no_SVI_avg_adj_r2, arimax_y_shift_X_lag_7_no_SVI_predictions = arimaxcv(y_shift, X_lag_7_no_SVI.iloc[1:,:], tscv)"
   ]
  },
  {
   "cell_type": "markdown",
   "id": "40d49515-e596-444f-8efe-e8bd9c21e800",
   "metadata": {},
   "source": [
    "## Model performance"
   ]
  },
  {
   "cell_type": "code",
   "execution_count": 97,
   "id": "f0325619-99e7-4747-aa0d-74f9346d0994",
   "metadata": {},
   "outputs": [
    {
     "name": "stdout",
     "output_type": "stream",
     "text": [
      "Linear Regression using original versions of features (no differenced and lagged)\n",
      "   Average RMSE: 31.134840752257695, Average Adj R^2: -10.053469692335657\n",
      "\n",
      "Linear Regression using shifted y and original versions of features (no differenced and lagged)\n",
      "   Average RMSE: 31.546349509864495, Average Adj R^2: -10.263323140499713\n",
      "\n",
      "Linear Regression using 1st level differenced versions of features\n",
      "   Average RMSE: 22.939486782000166, Average Adj R^2: -19.878422296388482\n",
      "\n",
      "Linear Regression using shifted y and 1st level differenced versions of features\n",
      "   Average RMSE: 22.936403732201697, Average Adj R^2: -19.89598447489483\n",
      "\n",
      "Linear Regression using 1 day lagged versions of features\n",
      "   Average RMSE: 8.764134453374917, Average Adj R^2: 0.16222923716691875\n",
      "\n",
      "Linear Regression using shifted y and 1 day lagged versions of features\n",
      "   Average RMSE: 1.996572896218072e-12, Average Adj R^2: 1.0\n",
      "\n",
      "Linear Regression using 4 day lagged versions of features\n",
      "   Average RMSE: 11.947664576160218, Average Adj R^2: -0.6425800720293136\n",
      "\n",
      "Linear Regression using shifted y and 4 day lagged versions of features\n",
      "   Average RMSE: 11.467231629357283, Average Adj R^2: -0.5465800084872013\n",
      "\n",
      "Linear Regression using 7 day lagged versions of features\n",
      "   Average RMSE: 13.639421128487182, Average Adj R^2: -1.4821155032275244\n",
      "\n",
      "Linear Regression using shifted y and 7 day lagged versions of features\n",
      "   Average RMSE: 12.86541259843099, Average Adj R^2: -1.0033124679724605\n",
      "\n",
      "Linear Regression using shifted y and 2 day lagged versions of features\n",
      "   Average RMSE: 8.791988914403097, Average Adj R^2: 0.14341343963340114\n",
      "\n",
      "Linear Regression using shifted y and 3 day lagged versions of features\n",
      "   Average RMSE: 12.86541259843099, Average Adj R^2: -1.0033124679724605\n",
      "\n"
     ]
    }
   ],
   "source": [
    "# Compared model RMSE and adj R2 scores.\n",
    "\n",
    "print(f\"Linear Regression using original versions of features (no differenced and lagged)\")\n",
    "print(f\"   Average RMSE: {lr_X_orig_avg_rmse}, Average Adj R^2: {lr_X_orig_avg_adj_r2}\")\n",
    "print()\n",
    "print(f\"Linear Regression using shifted y and original versions of features (no differenced and lagged)\")\n",
    "print(f\"   Average RMSE: {lr_y_shift_X_orig_avg_rmse}, Average Adj R^2: {lr_y_shift_X_orig_avg_adj_r2}\")\n",
    "print()\n",
    "print(f\"Linear Regression using 1st order differenced versions of features\")\n",
    "print(f\"   Average RMSE: {lr_X_diff_1_avg_rmse}, Average Adj R^2: {lr_X_diff_1_avg_adj_r2}\")\n",
    "print()\n",
    "print(f\"Linear Regression using shifted y and 1st order differenced versions of features\")\n",
    "print(f\"   Average RMSE: {lr_y_shift_X_diff_1_avg_rmse}, Average Adj R^2: {lr_y_shift_X_diff_1_avg_adj_r2}\")\n",
    "print()\n",
    "print(f\"Linear Regression using 1 day lagged versions of features\")\n",
    "print(f\"   Average RMSE: {lr_X_lag_1_avg_rmse}, Average Adj R^2: {lr_X_lag_1_avg_adj_r2}\")\n",
    "print()\n",
    "print(f\"Linear Regression using shifted y and 1 day lagged versions of features\")\n",
    "print(f\"   Average RMSE: {lr_y_shift_X_lag_1_avg_rmse}, Average Adj R^2: {lr_y_shift_X_lag_1_avg_adj_r2}\")\n",
    "print()\n",
    "print(f\"Linear Regression using 4 day lagged versions of features\")\n",
    "print(f\"   Average RMSE: {lr_X_lag_4_avg_rmse}, Average Adj R^2: {lr_X_lag_4_avg_adj_r2}\")\n",
    "print()\n",
    "print(f\"Linear Regression using shifted y and 4 day lagged versions of features\")\n",
    "print(f\"   Average RMSE: {lr_y_shift_X_lag_4_avg_rmse}, Average Adj R^2: {lr_y_shift_X_lag_4_avg_adj_r2}\")\n",
    "print()\n",
    "print(f\"Linear Regression using 7 day lagged versions of features\")\n",
    "print(f\"   Average RMSE: {lr_X_lag_7_avg_rmse}, Average Adj R^2: {lr_X_lag_7_avg_adj_r2}\")\n",
    "print()\n",
    "print(f\"Linear Regression using shifted y and 7 day lagged versions of features\")\n",
    "print(f\"   Average RMSE: {lr_y_shift_X_lag_7_avg_rmse}, Average Adj R^2: {lr_y_shift_X_lag_7_avg_adj_r2}\")\n",
    "print()\n",
    "print(f\"Linear Regression using shifted y and 2 day lagged versions of features\")\n",
    "print(f\"   Average RMSE: {lr_y_shift_X_lag_2_avg_rmse}, Average Adj R^2: {lr_y_shift_X_lag_2_avg_adj_r2}\")\n",
    "print()\n",
    "print(f\"Linear Regression using shifted y and 3 day lagged versions of features\")\n",
    "print(f\"   Average RMSE: {lr_y_shift_X_lag_3_avg_rmse}, Average Adj R^2: {lr_y_shift_X_lag_3_avg_adj_r2}\")\n",
    "print()"
   ]
  },
  {
   "cell_type": "markdown",
   "id": "cd5c688e-e41b-438c-aa14-7d43b541d908",
   "metadata": {},
   "source": [
    "I first ran the linear regression model using combinations of not shifted and shifted y values and original, 1st order differenced, 1 day lagged, 4 day lagged, and 7 day lagged versions of X. The RMSE and adjusted R2 indicated that the models:\n",
    "1. Perform poorly with the original data and a lag of 4 and 7 days,\n",
    "2. Are not improve by differencing the data,\n",
    "3. Perform moderately well with shifted y and a lag of 1 day data (considering a mean SVI of 101 and max of 235),\n",
    "4. Appear to suffer from data leakage when y is shifted and lag of 1 day is used,\n",
    "5. Perform better when y is shifted than when it is not in combination with lag data.\n",
    "\n",
    "This information indicated that I should run models with a combination of shifted y data and lag of 2 days and lag of 3 days. The models perform:\n",
    "1. Moderately well with lag of 2 days,\n",
    "2. Poorly with a lag of 3 days.\n",
    "\n",
    "Overall, the highest performing linear regression model used shifted y data and a lag of 1 day. The RMSE indicated that the error between the model's predictions and the actual values was small. Adjusted R squared, on the other hand, indicated that the model explains only 16% of the variance in the target variable."
   ]
  },
  {
   "cell_type": "code",
   "execution_count": 118,
   "id": "5caa3c47-d63e-44e4-ba47-a61390388f7c",
   "metadata": {},
   "outputs": [
    {
     "name": "stdout",
     "output_type": "stream",
     "text": [
      "Random forest using original versions of features (no differenced and lagged)\n",
      "   Average RMSE: 24.91117034313367, Average Adj R^2: -8.827540933472704\n",
      "\n",
      "Random forest using shifted y and original versions of features (no differenced and lagged)\n",
      "   Average RMSE: 26.108343706896584, Average Adj R^2: -10.349435610163873\n",
      "\n",
      "Random forest using 1st level differenced versions of features\n",
      "   Average RMSE: 18.55058165833638, Average Adj R^2: -5.962731646621618\n",
      "\n",
      "Random forest using shifted y and 1st level differenced versions of features\n",
      "   Average RMSE: 18.594086516379136, Average Adj R^2: -6.212064115947517\n",
      "\n",
      "Random forest using 1 day lagged versions of features\n",
      "   Average RMSE: 8.344846808933502, Average Adj R^2: 0.4388156795004276\n",
      "\n",
      "Random forest using shifted y and 1 day lagged versions of features\n",
      "   Average RMSE: 0.5355404055379289, Average Adj R^2: 0.9966741032940988\n",
      "\n",
      "Random forest using 4 day lagged versions of features\n",
      "   Average RMSE: 11.50996240791368, Average Adj R^2: -0.047901643820706205\n",
      "\n",
      "Random forest using shifted y and 4 day lagged versions of features\n",
      "   Average RMSE: 10.938616927853975, Average Adj R^2: 0.05853326831202703\n",
      "\n",
      "Random forest using 7 day lagged versions of features\n",
      "   Average RMSE: 12.515649837052738, Average Adj R^2: -0.2306933378103627\n",
      "\n",
      "Random forest using shifted y and 7 day lagged versions of features\n",
      "   Average RMSE: 11.86436616992657, Average Adj R^2: -0.12765625388205631\n",
      "\n"
     ]
    }
   ],
   "source": [
    "# Compared model RMSE and adj R2 scores.\n",
    "\n",
    "print(f\"Random forest using original versions of features (no differenced and lagged)\")\n",
    "print(f\"   Average RMSE: {rf_X_orig_avg_rmse}, Average Adj R^2: {rf_X_orig_avg_adj_r2}\")\n",
    "print()\n",
    "print(f\"Random forest using shifted y and original versions of features (no differenced and lagged)\")\n",
    "print(f\"   Average RMSE: {rf_y_shift_X_orig_avg_rmse}, Average Adj R^2: {rf_y_shift_X_orig_avg_adj_r2}\")\n",
    "print()\n",
    "print(f\"Random forest using 1st order differenced versions of features\")\n",
    "print(f\"   Average RMSE: {rf_X_diff_1_avg_rmse}, Average Adj R^2: {rf_X_diff_1_avg_adj_r2}\")\n",
    "print()\n",
    "print(f\"Random forest using shifted y and 1st order differenced versions of features\")\n",
    "print(f\"   Average RMSE: {rf_y_shift_X_diff_1_avg_rmse}, Average Adj R^2: {rf_y_shift_X_diff_1_avg_adj_r2}\")\n",
    "print()\n",
    "print(f\"Random forest using 1 day lagged versions of features\")\n",
    "print(f\"   Average RMSE: {rf_X_lag_1_avg_rmse}, Average Adj R^2: {rf_X_lag_1_avg_adj_r2}\")\n",
    "print()\n",
    "print(f\"Random forest using shifted y and 1 day lagged versions of features\")\n",
    "print(f\"   Average RMSE: {rf_y_shift_X_lag_1_avg_rmse}, Average Adj R^2: {rf_y_shift_X_lag_1_avg_adj_r2}\")\n",
    "print()\n",
    "print(f\"Random forest using 4 day lagged versions of features\")\n",
    "print(f\"   Average RMSE: {rf_X_lag_4_avg_rmse}, Average Adj R^2: {rf_X_lag_4_avg_adj_r2}\")\n",
    "print()\n",
    "print(f\"Random forest using shifted y and 4 day lagged versions of features\")\n",
    "print(f\"   Average RMSE: {rf_y_shift_X_lag_4_avg_rmse}, Average Adj R^2: {rf_y_shift_X_lag_4_avg_adj_r2}\")\n",
    "print()\n",
    "print(f\"Random forest using 7 day lagged versions of features\")\n",
    "print(f\"   Average RMSE: {rf_X_lag_7_avg_rmse}, Average Adj R^2: {rf_X_lag_7_avg_adj_r2}\")\n",
    "print()\n",
    "print(f\"Random forest using shifted y and 7 day lagged versions of features\")\n",
    "print(f\"   Average RMSE: {rf_y_shift_X_lag_7_avg_rmse}, Average Adj R^2: {rf_y_shift_X_lag_7_avg_adj_r2}\")\n",
    "print()"
   ]
  },
  {
   "cell_type": "markdown",
   "id": "7f66401a-633b-4105-84b1-ad878e79b250",
   "metadata": {},
   "source": [
    "I ran the random forest model using combinations of not shifted and shifted y values and original, 1st order differenced, 1 day lagged, 4 day lagged, and 7 day lagged versions of X. The RMSE and adjusted R2 indicated that the model:\n",
    "1. Perform poorly with the original data and a lag of 4 and 7 days,\n",
    "2. Are only slightly improve by differencing the data, although they still perform poorly,\n",
    "3. Perform better with shifted y data than with non shifted y data in combination with lagged data,\n",
    "4. With a lag of one day, perform moderately well with not shifted y and very well with shifted y.\n",
    "5. \n",
    "This information indicated that I did not need to run the model again with different features because I already found a very good model.\n",
    "Overall, the random forest model using non shifted y data and a lag of 1 day performed best. The RMSE indicated that the error between the model's predictions and the actual values was very small. In addition, the R2adj indicated that the model explains almost 97% of the variance in the target variable.\n"
   ]
  },
  {
   "cell_type": "code",
   "execution_count": 138,
   "id": "a1cae007-1382-43e2-a732-259a93bb814e",
   "metadata": {},
   "outputs": [
    {
     "name": "stdout",
     "output_type": "stream",
     "text": [
      "ARIMAX using original versions of features (no differenced and lagged)\n",
      "   Average RMSE: 17.769912703273747, Average Adj R^2: -1.189739868762603\n",
      "\n",
      "ARIMAX using shifted y and original versions of features (no differenced and lagged)\n",
      "   Average RMSE: 17.09662846657269, Average Adj R^2: -1.0362848863061318\n",
      "\n",
      "ARIMAX using 1st level differenced versions of features\n",
      "   Average RMSE: 17.769912703273747, Average Adj R^2: -2.982376652516444\n",
      "\n",
      "ARIMAX using shifted y and 1st level differenced versions of features\n",
      "   Average RMSE: 17.09662846657269, Average Adj R^2: -2.703295311365037\n",
      "\n",
      "ARIMAX using 1 day lagged versions of features\n",
      "   Average RMSE: 17.769912703273747, Average Adj R^2: -1.4954503049859533\n",
      "\n",
      "ARIMAX using shifted y and 1 day lagged versions of features\n",
      "   Average RMSE: 17.09662846657269, Average Adj R^2: -1.3205714126410786\n",
      "\n",
      "ARIMAX using 4 day lagged versions of features\n",
      "   Average RMSE: 17.769912703273747, Average Adj R^2: -1.4954503049859533\n",
      "\n",
      "ARIMAX using shifted y and 4 day lagged versions of features\n",
      "   Average RMSE: 17.09662846657269, Average Adj R^2: -1.3205714126410786\n",
      "\n",
      "ARIMAX using 7 day lagged versions of features\n",
      "   Average RMSE: 17.769912703273747, Average Adj R^2: -1.4954503049859533\n",
      "\n",
      "ARIMAX using shifted y and 7 day lagged versions of features\n",
      "   Average RMSE: 17.09662846657269, Average Adj R^2: -1.3205714126410786\n",
      "\n"
     ]
    }
   ],
   "source": [
    "# Compared model RMSE and adj R2 scores.\n",
    "\n",
    "print(f\"ARIMAX using original versions of features (no differenced and lagged)\")\n",
    "print(f\"   Average RMSE: {arimax_X_orig_avg_rmse}, Average Adj R^2: {arimax_X_orig_avg_adj_r2}\")\n",
    "print()\n",
    "print(f\"ARIMAX using shifted y and original versions of features (no differenced and lagged)\")\n",
    "print(f\"   Average RMSE: {arimax_y_shift_X_orig_avg_rmse}, Average Adj R^2: {arimax_y_shift_X_orig_avg_adj_r2}\")\n",
    "print()\n",
    "print(f\"ARIMAX using 1st order differenced versions of features\")\n",
    "print(f\"   Average RMSE: {arimax_X_diff_1_no_SVI_avg_rmse}, Average Adj R^2: {arimax_X_diff_1_no_SVI_avg_adj_r2}\")\n",
    "print()\n",
    "print(f\"ARIMAX using shifted y and 1st order differenced versions of features\")\n",
    "print(f\"   Average RMSE: {arimax_y_shift_X_diff_1_no_SVI_avg_rmse}, Average Adj R^2: {arimax_y_shift_X_diff_1_no_SVI_avg_adj_r2}\")\n",
    "print()\n",
    "print(f\"ARIMAX using 1 day lagged versions of features\")\n",
    "print(f\"   Average RMSE: {arimax_X_lag_1_no_SVI_avg_rmse}, Average Adj R^2: {arimax_X_lag_1_no_SVI_avg_adj_r2}\")\n",
    "print()\n",
    "print(f\"ARIMAX using shifted y and 1 day lagged versions of features\")\n",
    "print(f\"   Average RMSE: {arimax_y_shift_X_lag_1_no_SVI_avg_rmse}, Average Adj R^2: {arimax_y_shift_X_lag_1_no_SVI_avg_adj_r2}\")\n",
    "print()\n",
    "print(f\"ARIMAX using 4 day lagged versions of features\")\n",
    "print(f\"   Average RMSE: {arimax_X_lag_4_no_SVI_avg_rmse}, Average Adj R^2: {arimax_X_lag_4_no_SVI_avg_adj_r2}\")\n",
    "print()\n",
    "print(f\"ARIMAX using shifted y and 4 day lagged versions of features\")\n",
    "print(f\"   Average RMSE: {arimax_y_shift_X_lag_4_no_SVI_avg_rmse}, Average Adj R^2: {arimax_y_shift_X_lag_4_no_SVI_avg_adj_r2}\")\n",
    "print()\n",
    "print(f\"ARIMAX using 7 day lagged versions of features\")\n",
    "print(f\"   Average RMSE: {arimax_X_lag_7_no_SVI_avg_rmse}, Average Adj R^2: {arimax_X_lag_7_no_SVI_avg_adj_r2}\")\n",
    "print()\n",
    "print(f\"ARIMAX using shifted y and 7 day lagged versions of features\")\n",
    "print(f\"   Average RMSE: {arimax_y_shift_X_lag_7_no_SVI_avg_rmse}, Average Adj R^2: {arimax_y_shift_X_lag_7_no_SVI_avg_adj_r2}\")\n",
    "print()"
   ]
  },
  {
   "cell_type": "markdown",
   "id": "a44f3f62-9c52-41d6-b510-ad8489259440",
   "metadata": {},
   "source": [
    "I ran the ARIMAX model using combinations of not shifted and shifted y values and original, 1st order differenced, 1 day lagged, 4 day lagged, and 7 day lagged versions of X, none of which containd any versions of SVI. The RMSE and adjusted R2 indicated that the models:\n",
    "1. Perform poorly with all data,\n",
    "2. Are not improve by differencing the data,\n",
    "3. Perform slightly better with shifted y values than not shifted.\n",
    "\n",
    "This information indicated that I did not need to run the model again with different features because no additional data is expected to produce a better ARIMAX model. Overall, these scores indicate that ARIMAX models do not provide a good fit to the data and perform worse than a simple mean prediction model as indicated by the negative R2adj scores."
   ]
  },
  {
   "cell_type": "markdown",
   "id": "098e44e5-41ef-4f67-9417-8be7dcce28d3",
   "metadata": {},
   "source": [
    "Therfore, the random forest model using shifted y data and an X lag of one day is the best predictive model for this project."
   ]
  },
  {
   "cell_type": "markdown",
   "id": "b2bcb1a0-6ad5-4c49-ae61-84291c8eb12c",
   "metadata": {
    "tags": []
   },
   "source": [
    "# Data save"
   ]
  },
  {
   "cell_type": "code",
   "execution_count": 153,
   "id": "6627d98e-0b7e-456a-95a0-daf9646354e8",
   "metadata": {},
   "outputs": [],
   "source": [
    "# Saved to Excel.\n",
    "df.to_excel('/Users/NJahns/Desktop/Bootcamp/Capstone_Two/Edited_Data/Model_Data.xlsx', index=True)"
   ]
  }
 ],
 "metadata": {
  "kernelspec": {
   "display_name": "Python 3 (ipykernel)",
   "language": "python",
   "name": "python3"
  },
  "language_info": {
   "codemirror_mode": {
    "name": "ipython",
    "version": 3
   },
   "file_extension": ".py",
   "mimetype": "text/x-python",
   "name": "python",
   "nbconvert_exporter": "python",
   "pygments_lexer": "ipython3",
   "version": "3.11.5"
  }
 },
 "nbformat": 4,
 "nbformat_minor": 5
}
